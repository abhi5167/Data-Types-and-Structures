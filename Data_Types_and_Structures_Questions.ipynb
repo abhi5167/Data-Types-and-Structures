{
  "nbformat": 4,
  "nbformat_minor": 0,
  "metadata": {
    "colab": {
      "provenance": []
    },
    "kernelspec": {
      "name": "python3",
      "display_name": "Python 3"
    },
    "language_info": {
      "name": "python"
    }
  },
  "cells": [
    {
      "cell_type": "markdown",
      "source": [
        "# **Theory Questions**"
      ],
      "metadata": {
        "id": "dwZx3tQsM6Eq"
      }
    },
    {
      "cell_type": "markdown",
      "source": [
        "**Q.1 What are data structures, and why are they important**\n",
        "\n",
        "\n",
        "=> Data structures are organized ways of storing and managing data to enable efficient access and modification. They are important because they optimize data processing tasks, such as searching, sorting, and storing, based on specific requirements.\n",
        "\n",
        "**Example:** Lists, dictionaries, sets, and tuples in Python."
      ],
      "metadata": {
        "id": "baDVBS6nM8vM"
      }
    },
    {
      "cell_type": "markdown",
      "source": [
        "**Q.2 Explain the difference between mutable and immutable data types with examples.**\n",
        "\n",
        "=>**Mutable data types:** These are types of data whose values can be changed after they are created. Examples include:\n",
        "\n",
        "- **List:** [1, 2, 3] (You can modify its elements).\n",
        "\n",
        "- **Dictionary:**{\"key\": \"value\"} (You can change, add, or remove key-value pairs).\n",
        "\n",
        "**Immutable data types:** These are types of data whose values cannot be modified after creation. Examples include:\n",
        "\n",
        "- **Tuple:** (1, 2, 3) (You cannot change the elements once it is created).\n",
        "\n",
        "- **String:** \"hello\" (You cannot modify a character in a string directly)."
      ],
      "metadata": {
        "id": "JNblV2JyN70U"
      }
    },
    {
      "cell_type": "markdown",
      "source": [
        "**Immutable: tuple str python Copy code**"
      ],
      "metadata": {
        "id": "fsROf4_hOwTr"
      }
    },
    {
      "cell_type": "markdown",
      "source": [
        "**Q.3 What are the main differences between lists and tuples in Python4**\n",
        "  \n",
        "  =>\n",
        "**Mutability:**\n",
        "\n",
        "- List: Mutable (can be modified after creation).\n",
        "\n",
        "- Tuple: Immutable (cannot be modified after creation).\n",
        "\n",
        "**Syntax:**\n",
        "\n",
        "- List: Defined with square brackets ([]), e.g., [1, 2, 3].\n",
        "\n",
        "- Tuple: Defined with parentheses (()), e.g., (1, 2, 3).\n",
        "\n",
        "**Use case:**\n",
        "\n",
        "- Use lists when you need to modify the contents, like adding or removing elements.\n",
        "\n",
        "- Use tuples when you need to store data that should remain unchanged to ensure data integrity.\n",
        "  "
      ],
      "metadata": {
        "id": "JmIgmFygPIQ0"
      }
    },
    {
      "cell_type": "markdown",
      "source": [
        "**Q.4 Describe how dictionaries store data**\n",
        "\n",
        "  => Dictionaries store data as key-value pairs, using a hash table internally for fast data retrieval."
      ],
      "metadata": {
        "id": "arLhDkxbQSOy"
      }
    },
    {
      "cell_type": "markdown",
      "source": [
        "**Example:**"
      ],
      "metadata": {
        "id": "RjZrNiZSQ606"
      }
    },
    {
      "cell_type": "code",
      "source": [
        "my_dict = {'name': 'Alice', 'age': 25}\n",
        "print(my_dict['name'])  # Output: Alice\n"
      ],
      "metadata": {
        "colab": {
          "base_uri": "https://localhost:8080/"
        },
        "id": "0WXGhBryQ_ci",
        "outputId": "fd635b92-a357-4fd6-b256-09eafbddfc76"
      },
      "execution_count": null,
      "outputs": [
        {
          "output_type": "stream",
          "name": "stdout",
          "text": [
            "Alice\n"
          ]
        }
      ]
    },
    {
      "cell_type": "markdown",
      "source": [
        "**Q.5 Why might you use a set instead of a list in Python**\n",
        "\n",
        " => Sets ensure uniqueness of elements and provide faster membership testing compared to lists.\\"
      ],
      "metadata": {
        "id": "d5Q7_2b5RBni"
      }
    },
    {
      "cell_type": "markdown",
      "source": [
        "**Example:**"
      ],
      "metadata": {
        "id": "kGZwl8lLRXCU"
      }
    },
    {
      "cell_type": "code",
      "source": [
        "my_set = {1, 2, 3}\n",
        "my_list = [1, 2, 2, 3]\n",
        "print(set(my_list))  # Output: {1, 2, 3}\n"
      ],
      "metadata": {
        "colab": {
          "base_uri": "https://localhost:8080/"
        },
        "id": "BmWHsiZdRYwS",
        "outputId": "816366aa-8b10-40a2-a563-eb8f3f22f523"
      },
      "execution_count": null,
      "outputs": [
        {
          "output_type": "stream",
          "name": "stdout",
          "text": [
            "{1, 2, 3}\n"
          ]
        }
      ]
    },
    {
      "cell_type": "markdown",
      "source": [
        "**Q.6 What is a string in Python, and how is it different from a list**\n",
        "\n",
        " => A string in Python is a sequence of characters, typically used to represent textual data. It is immutable, meaning once created, its content cannot be changed.\n",
        "\n",
        "- A list can store various types of objects (integers, strings, other lists, etc.), and it is mutable, meaning you can change, add, or remove elements.\n",
        "\n",
        "- A string can only store characters, and its content cannot be modified after creation.\n"
      ],
      "metadata": {
        "id": "J8vfNxZmRc3C"
      }
    },
    {
      "cell_type": "markdown",
      "source": [
        "**Q.7 How do tuples ensure data integrity in Python**\n",
        "\n",
        "  => Tuples are immutable, meaning once a tuple is created, its elements cannot be changed, deleted, or added to. This immutability ensures that the data in a tuple remains intact and unchanged, providing a level of data integrity, especially when tuples are used to store fixed data like coordinates or other unchangeable values."
      ],
      "metadata": {
        "id": "HolbpAFCRwyC"
      }
    },
    {
      "cell_type": "markdown",
      "source": [
        "**Q.8 What is a hash table, and how does it relate to dictionaries in Python**\n",
        "\n",
        "  => A hash table is a data structure that stores data in an associative manner, mapping keys to values using a hash function. This allows for fast retrieval of values when you know the key. In Python, dictionaries are implemented using hash tables, so dictionary keys are hashed to enable quick access to their corresponding values."
      ],
      "metadata": {
        "id": "H6RarRU2SaAh"
      }
    },
    {
      "cell_type": "markdown",
      "source": [
        "**Q.9 Can lists contain different data types in Python**\n",
        "\n",
        "  => Yes, Python lists can contain elements of different data types."
      ],
      "metadata": {
        "id": "WYgMd4sWTPqh"
      }
    },
    {
      "cell_type": "markdown",
      "source": [
        "**Example:**"
      ],
      "metadata": {
        "id": "JaPeEXiiT_Ed"
      }
    },
    {
      "cell_type": "code",
      "source": [
        "my_list = [1, \"hello\", 3.14]\n"
      ],
      "metadata": {
        "id": "vreFf65tUFQC"
      },
      "execution_count": 5,
      "outputs": []
    },
    {
      "cell_type": "markdown",
      "source": [
        "**Q.10 Explain why strings are immutable in Python**\n",
        "\n",
        "  => Strings are immutable in Python to optimize performance. Since strings are used frequently in programs, immutability allows Python to manage memory more efficiently, share memory for identical strings, and prevent accidental modifications. Additionally, immutability makes strings hashable, allowing them to be used as dictionary keys."
      ],
      "metadata": {
        "id": "Wrdn4EqGUqsg"
      }
    },
    {
      "cell_type": "markdown",
      "source": [
        "**Q.11 What advantages do dictionaries offer over lists for certain tasks**\n",
        "\n",
        "  => Dictionaries allow constant-time key-based lookups, whereas lists require linear time for searching."
      ],
      "metadata": {
        "id": "9zc_soqHVTKp"
      }
    },
    {
      "cell_type": "markdown",
      "source": [
        "**Example:**"
      ],
      "metadata": {
        "id": "nPGyl3QZVqXw"
      }
    },
    {
      "cell_type": "code",
      "source": [
        "my_dict = {'name': 'Alice'}\n",
        "print(my_dict['name'])  # Fast lookup\n"
      ],
      "metadata": {
        "colab": {
          "base_uri": "https://localhost:8080/"
        },
        "id": "kFwp3VeDVreA",
        "outputId": "05b0270a-0d8a-4bc0-d1b6-73b15588be83"
      },
      "execution_count": null,
      "outputs": [
        {
          "output_type": "stream",
          "name": "stdout",
          "text": [
            "Alice\n"
          ]
        }
      ]
    },
    {
      "cell_type": "markdown",
      "source": [
        "**Q.12 Describe a scenario where using a tuple would be preferable over a list**\n",
        "\n",
        "  => When you need to store constant data that shouldn’t be modified, such as configuration settings."
      ],
      "metadata": {
        "id": "2rxJecqsVtpp"
      }
    },
    {
      "cell_type": "markdown",
      "source": [
        "**Example:**"
      ],
      "metadata": {
        "id": "QTQXmv70W1bX"
      }
    },
    {
      "cell_type": "code",
      "source": [
        "config = (1920, 1080)  # Screen resolution\n"
      ],
      "metadata": {
        "id": "AaMgtdMeXABP"
      },
      "execution_count": null,
      "outputs": []
    },
    {
      "cell_type": "markdown",
      "source": [
        "**Q.13 How do sets handle duplicate values in Python**\n",
        "\n",
        "  => Sets automatically remove duplicate values."
      ],
      "metadata": {
        "id": "CUUhoQQcXC7v"
      }
    },
    {
      "cell_type": "markdown",
      "source": [
        "**Example:**"
      ],
      "metadata": {
        "id": "J70k2I5PXY7s"
      }
    },
    {
      "cell_type": "code",
      "source": [
        "my_set = {1, 2, 2, 3}\n",
        "print(my_set)  # Output: {1, 2, 3}\n"
      ],
      "metadata": {
        "colab": {
          "base_uri": "https://localhost:8080/"
        },
        "id": "6PM2XBWNXaMX",
        "outputId": "988947de-e944-4e7d-fd69-e2360e80097f"
      },
      "execution_count": null,
      "outputs": [
        {
          "output_type": "stream",
          "name": "stdout",
          "text": [
            "{1, 2, 3}\n"
          ]
        }
      ]
    },
    {
      "cell_type": "markdown",
      "source": [
        "**Q.14 How does the “in” keyword work differently for lists and dictionaries**\n",
        "\n",
        "  =>\n",
        "\n",
        "For **lists**, the \"in\" keyword checks if a value exists in the list.\n",
        "\n",
        "For **dictionaries**, the \"in\" keyword checks if a **key** exists in the dictionary."
      ],
      "metadata": {
        "id": "xrbZQesTXjh_"
      }
    },
    {
      "cell_type": "markdown",
      "source": [
        "**Q.15 Can you modify the elements of a tuple? Explain why or why not.**\n",
        "\n",
        "  => No, you cannot modify the elements of a tuple because tuples are immutable. Once a tuple is created, its values cannot be changed, which ensures that the data remains constant.\n",
        "\n",
        "\n"
      ],
      "metadata": {
        "id": "3EAOw6cVsQwM"
      }
    },
    {
      "cell_type": "markdown",
      "source": [
        "**Q.16. What is a nested dictionary, and give an example of its use case?**\n",
        "\n",
        "  => A nested dictionary is a dictionary where one or more of the values are themselves dictionaries. This is useful when dealing with hierarchical data.\n",
        "\n",
        "\n"
      ],
      "metadata": {
        "id": "gkS_pvk4slSn"
      }
    },
    {
      "cell_type": "markdown",
      "source": [
        "**Example**"
      ],
      "metadata": {
        "id": "ZNrbtSqis0a5"
      }
    },
    {
      "cell_type": "code",
      "source": [
        "student = {\n",
        "    \"name\": \"John\",\n",
        "    \"grades\": {\n",
        "        \"math\": 90,\n",
        "        \"science\": 85\n",
        "    }\n",
        "}\n"
      ],
      "metadata": {
        "id": "uf8iB0USs4AF"
      },
      "execution_count": 6,
      "outputs": []
    },
    {
      "cell_type": "markdown",
      "source": [
        "In this example, student has a dictionary value for the key grades.\n",
        "\n"
      ],
      "metadata": {
        "id": "qWCf8ildtGax"
      }
    },
    {
      "cell_type": "markdown",
      "source": [
        "**Q.17. Describe the time complexity of accessing elements in a dictionary.**\n",
        "\n",
        "  => The time complexity of accessing elements in a dictionary is O(1) on average, meaning it can be accessed in constant time. However, in the worst case (e.g., hash collisions), it could be O(n).\n",
        "\n"
      ],
      "metadata": {
        "id": "BAJTPm8HtOLb"
      }
    },
    {
      "cell_type": "markdown",
      "source": [
        "**Q.18. In what situations are lists preferred over dictionaries?**\n",
        "\n",
        "  => Lists are preferred when the order of elements matters, or when you need to store data sequentially, without needing to map keys to values.\n",
        "\n",
        "\n"
      ],
      "metadata": {
        "id": "t6yZg2K2te1G"
      }
    },
    {
      "cell_type": "markdown",
      "source": [
        "**Q.19. Why are dictionaries considered unordered, and how does that affect data retrieval?**\n",
        "\n",
        "  => Dictionaries are considered unordered because they do not maintain the order of elements. Data retrieval is based on keys, not the position of elements, meaning the order of items is not guaranteed.\n",
        "\n",
        "\n"
      ],
      "metadata": {
        "id": "btcoS2C3tq7o"
      }
    },
    {
      "cell_type": "markdown",
      "source": [
        "**Q.20. Explain the difference between a list and a dictionary in terms of data retrieval.**\n",
        "\n",
        "  =>\n",
        "  \n",
        "- In a **list**, data is retrieved by index (e.g., my_list[2]), and the order is maintained.\n",
        "- In a **dictionary**, data is retrieved by key (e.g., my_dict['key']), and the order of retrieval is not guaranteed (though in recent versions of Python, dictionaries do maintain insertion order)\n"
      ],
      "metadata": {
        "id": "kUS26taVt08v"
      }
    },
    {
      "cell_type": "markdown",
      "source": [
        "# **Practical Questions**"
      ],
      "metadata": {
        "id": "pdz9KF8LuTk1"
      }
    },
    {
      "cell_type": "markdown",
      "source": [
        "**Q.1 Write a code to create a string with your name and print it.**"
      ],
      "metadata": {
        "id": "FHkOfUfuuw3Z"
      }
    },
    {
      "cell_type": "code",
      "source": [
        "name = \"Abhishek\"\n",
        "print(name)\n"
      ],
      "metadata": {
        "colab": {
          "base_uri": "https://localhost:8080/"
        },
        "id": "TZVdwD6qxAwi",
        "outputId": "53b28135-1933-4e20-9dad-01778ba24bd9"
      },
      "execution_count": 7,
      "outputs": [
        {
          "output_type": "stream",
          "name": "stdout",
          "text": [
            "Abhishek\n"
          ]
        }
      ]
    },
    {
      "cell_type": "markdown",
      "source": [
        "**Q.2. Write a code to find the length of the string \"Hello World\"**"
      ],
      "metadata": {
        "id": "63cVocIBxNln"
      }
    },
    {
      "cell_type": "code",
      "source": [
        "string = \"Hello World\"\n",
        "print(len(string))\n"
      ],
      "metadata": {
        "colab": {
          "base_uri": "https://localhost:8080/"
        },
        "id": "47f6XMLLxSjQ",
        "outputId": "06bdaec2-b7a3-46d7-ba31-c1d1844d353d"
      },
      "execution_count": 8,
      "outputs": [
        {
          "output_type": "stream",
          "name": "stdout",
          "text": [
            "11\n"
          ]
        }
      ]
    },
    {
      "cell_type": "markdown",
      "source": [
        "**Q.3. Write a code to slice the first 3 characters from the string \"Python Programming\".**"
      ],
      "metadata": {
        "id": "_UQy6sebxYg_"
      }
    },
    {
      "cell_type": "code",
      "source": [
        "string = \"Python Programming\"\n",
        "print(string[:3])\n"
      ],
      "metadata": {
        "colab": {
          "base_uri": "https://localhost:8080/"
        },
        "id": "TlYA-nMaxhGc",
        "outputId": "4eba214e-9f6e-4cb3-d612-2a3797063200"
      },
      "execution_count": 9,
      "outputs": [
        {
          "output_type": "stream",
          "name": "stdout",
          "text": [
            "Pyt\n"
          ]
        }
      ]
    },
    {
      "cell_type": "markdown",
      "source": [
        "**Q.4. Write a code to convert the string \"hello\" to uppercase.**"
      ],
      "metadata": {
        "id": "BKCELOZfxtSN"
      }
    },
    {
      "cell_type": "code",
      "source": [
        "string = \"hello\"\n",
        "print(string.upper())\n"
      ],
      "metadata": {
        "colab": {
          "base_uri": "https://localhost:8080/"
        },
        "id": "8xQ2Rhchxyp6",
        "outputId": "89a14bbc-ebd6-4413-ac9a-5bcdaf81264d"
      },
      "execution_count": 10,
      "outputs": [
        {
          "output_type": "stream",
          "name": "stdout",
          "text": [
            "HELLO\n"
          ]
        }
      ]
    },
    {
      "cell_type": "markdown",
      "source": [
        "**Q.5. Write a code to replace the word \"apple\" with \"orange\" in the string \"like apple\".**"
      ],
      "metadata": {
        "id": "XnGNYQOSx7HV"
      }
    },
    {
      "cell_type": "code",
      "source": [
        "string = \"like apple\"\n",
        "new_string = string.replace(\"apple\", \"orange\")\n",
        "print(new_string)\n"
      ],
      "metadata": {
        "colab": {
          "base_uri": "https://localhost:8080/"
        },
        "id": "Yw58nrTsyCWt",
        "outputId": "703acad9-f71c-43d9-aff7-da502e986a1f"
      },
      "execution_count": 11,
      "outputs": [
        {
          "output_type": "stream",
          "name": "stdout",
          "text": [
            "like orange\n"
          ]
        }
      ]
    },
    {
      "cell_type": "markdown",
      "source": [
        "**Q.6. Write a code to create a list with numbers 1 to 5 and print it.**\n"
      ],
      "metadata": {
        "id": "wX0WZPhqyGa4"
      }
    },
    {
      "cell_type": "code",
      "source": [
        "numbers = [1, 2, 3, 4, 5]\n",
        "print(numbers)\n"
      ],
      "metadata": {
        "colab": {
          "base_uri": "https://localhost:8080/"
        },
        "id": "kczctJSUyST5",
        "outputId": "d4f9ed24-55cd-45ae-abdc-8db46caf2c7e"
      },
      "execution_count": 12,
      "outputs": [
        {
          "output_type": "stream",
          "name": "stdout",
          "text": [
            "[1, 2, 3, 4, 5]\n"
          ]
        }
      ]
    },
    {
      "cell_type": "markdown",
      "source": [
        "**Q.7. Write a code to append the number 10 to the list [1, 2, 3, 4].**"
      ],
      "metadata": {
        "id": "ykzTGsOjyYDP"
      }
    },
    {
      "cell_type": "code",
      "source": [
        "numbers = [1, 2, 3, 4]\n",
        "numbers.append(10)\n",
        "print(numbers)\n"
      ],
      "metadata": {
        "colab": {
          "base_uri": "https://localhost:8080/"
        },
        "id": "fVwUPABhykWR",
        "outputId": "05e547ff-09e0-470a-d787-78d6423bf235"
      },
      "execution_count": 13,
      "outputs": [
        {
          "output_type": "stream",
          "name": "stdout",
          "text": [
            "[1, 2, 3, 4, 10]\n"
          ]
        }
      ]
    },
    {
      "cell_type": "markdown",
      "source": [
        "**Q.8. Write a code to remove the number 3 from the list [1, 2, 3, 4, 5].**"
      ],
      "metadata": {
        "id": "kQRFg-FgyzN-"
      }
    },
    {
      "cell_type": "code",
      "source": [
        "numbers = [1, 2, 3, 4, 5]\n",
        "numbers.remove(3)\n",
        "print(numbers)\n"
      ],
      "metadata": {
        "colab": {
          "base_uri": "https://localhost:8080/"
        },
        "id": "JoWbQoLby5JE",
        "outputId": "60367e63-335a-4178-866b-cb038a0d7a67"
      },
      "execution_count": 14,
      "outputs": [
        {
          "output_type": "stream",
          "name": "stdout",
          "text": [
            "[1, 2, 4, 5]\n"
          ]
        }
      ]
    },
    {
      "cell_type": "markdown",
      "source": [
        "**Q.9. Write a code to access the second element in the list ['a', 'b', 'c', 'd']**"
      ],
      "metadata": {
        "id": "Ip-SANl0y_2T"
      }
    },
    {
      "cell_type": "code",
      "source": [
        "letters = ['a', 'b', 'c', 'd']\n",
        "print(letters[1])\n"
      ],
      "metadata": {
        "colab": {
          "base_uri": "https://localhost:8080/"
        },
        "id": "z0lEXxo-zMH0",
        "outputId": "ba33485f-d71f-4f7b-e8c1-b5228a7fad59"
      },
      "execution_count": 15,
      "outputs": [
        {
          "output_type": "stream",
          "name": "stdout",
          "text": [
            "b\n"
          ]
        }
      ]
    },
    {
      "cell_type": "markdown",
      "source": [
        "**Q.10. Write a code to reverse the list (10, 20, 30, 40, 50)**"
      ],
      "metadata": {
        "id": "O5fGGovBzTzj"
      }
    },
    {
      "cell_type": "code",
      "source": [
        "numbers = [10, 20, 30, 40, 50]\n",
        "numbers.reverse()\n",
        "print(numbers)\n"
      ],
      "metadata": {
        "colab": {
          "base_uri": "https://localhost:8080/"
        },
        "id": "h_kucEX9zY62",
        "outputId": "9c844587-ae73-4f8a-df0f-882e915f1333"
      },
      "execution_count": 16,
      "outputs": [
        {
          "output_type": "stream",
          "name": "stdout",
          "text": [
            "[50, 40, 30, 20, 10]\n"
          ]
        }
      ]
    },
    {
      "cell_type": "markdown",
      "source": [
        "**Q.11. Write a code to create a tuple with the elements 10, 20, 30 and print it.**"
      ],
      "metadata": {
        "id": "kJDx5kQkzdC6"
      }
    },
    {
      "cell_type": "code",
      "source": [
        "my_tuple = (10, 20, 30)\n",
        "print(my_tuple)\n"
      ],
      "metadata": {
        "colab": {
          "base_uri": "https://localhost:8080/"
        },
        "id": "hHgC2BYuzsdu",
        "outputId": "eac5f5d8-455d-4e0d-d253-327cdfdca330"
      },
      "execution_count": 17,
      "outputs": [
        {
          "output_type": "stream",
          "name": "stdout",
          "text": [
            "(10, 20, 30)\n"
          ]
        }
      ]
    },
    {
      "cell_type": "markdown",
      "source": [
        "**Q.12. Write a code to access the first element of the tuple ('apple', 'banana', 'cherry').**"
      ],
      "metadata": {
        "id": "Q1LZOM1uzxNH"
      }
    },
    {
      "cell_type": "code",
      "source": [
        "my_tuple = ('apple', 'banana', 'cherry')\n",
        "print(my_tuple[0])\n"
      ],
      "metadata": {
        "colab": {
          "base_uri": "https://localhost:8080/"
        },
        "id": "OhD3TCr6z5rU",
        "outputId": "19ba7901-4635-4f2e-d609-7a18134474f6"
      },
      "execution_count": 18,
      "outputs": [
        {
          "output_type": "stream",
          "name": "stdout",
          "text": [
            "apple\n"
          ]
        }
      ]
    },
    {
      "cell_type": "markdown",
      "source": [
        "**Q.13. Write a code to count how many times the number 2 appears in the tuple (1, 2, 3, 2, 4, 2).**"
      ],
      "metadata": {
        "id": "cBrcyLIS0OdA"
      }
    },
    {
      "cell_type": "code",
      "source": [
        "my_tuple = (1, 2, 3, 2, 4, 2)\n",
        "print(my_tuple.count(2))\n"
      ],
      "metadata": {
        "colab": {
          "base_uri": "https://localhost:8080/"
        },
        "id": "PVRju0dl0Tj2",
        "outputId": "5c7df215-e94e-4ae6-bd69-2f08ce72a18c"
      },
      "execution_count": 19,
      "outputs": [
        {
          "output_type": "stream",
          "name": "stdout",
          "text": [
            "3\n"
          ]
        }
      ]
    },
    {
      "cell_type": "markdown",
      "source": [
        "**Q.14. Write a code to find the index of the element \"cat\" in the tuple ('dog', 'cat', 'rabbit').**"
      ],
      "metadata": {
        "id": "OjB3o0MM0Yf6"
      }
    },
    {
      "cell_type": "code",
      "source": [
        "my_tuple = ('dog', 'cat', 'rabbit')\n",
        "print(my_tuple.index('cat'))\n"
      ],
      "metadata": {
        "colab": {
          "base_uri": "https://localhost:8080/"
        },
        "id": "ylinSecz0vFK",
        "outputId": "a61dabfd-4745-4db7-96ba-72b20a77ec6e"
      },
      "execution_count": 20,
      "outputs": [
        {
          "output_type": "stream",
          "name": "stdout",
          "text": [
            "1\n"
          ]
        }
      ]
    },
    {
      "cell_type": "markdown",
      "source": [
        "**Q.15. Write a code to check if the element \"banana\" is in the tuple ('apple', 'orange', 'banana').**"
      ],
      "metadata": {
        "id": "pxYtiS6o0xk5"
      }
    },
    {
      "cell_type": "code",
      "source": [
        "my_tuple = ('apple', 'orange', 'banana')\n",
        "print('banana' in my_tuple)\n"
      ],
      "metadata": {
        "colab": {
          "base_uri": "https://localhost:8080/"
        },
        "id": "XORzvERy1BgU",
        "outputId": "623f2dab-5234-4ac9-fdf2-268e6b8ac096"
      },
      "execution_count": 21,
      "outputs": [
        {
          "output_type": "stream",
          "name": "stdout",
          "text": [
            "True\n"
          ]
        }
      ]
    },
    {
      "cell_type": "markdown",
      "source": [
        "**Q.16. Write a code to create a set with the elements 1, 2, 3, 4, 5 and print it.**"
      ],
      "metadata": {
        "id": "JdOHBtEj1Lq-"
      }
    },
    {
      "cell_type": "code",
      "source": [
        "my_set = {1, 2, 3, 4, 5}\n",
        "print(my_set)\n"
      ],
      "metadata": {
        "colab": {
          "base_uri": "https://localhost:8080/"
        },
        "id": "d7byAs7T1QTW",
        "outputId": "254b2380-c3a8-42c6-daaf-d2cf6dc2f418"
      },
      "execution_count": 22,
      "outputs": [
        {
          "output_type": "stream",
          "name": "stdout",
          "text": [
            "{1, 2, 3, 4, 5}\n"
          ]
        }
      ]
    },
    {
      "cell_type": "markdown",
      "source": [
        "**Q.17. Write a code to add the element 8 to the set (1, 2, 3, 4).**"
      ],
      "metadata": {
        "id": "7XQSzzEO1a4g"
      }
    },
    {
      "cell_type": "code",
      "source": [
        "my_set = {1, 2, 3, 4}\n",
        "my_set.add(8)\n",
        "print(my_set)\n"
      ],
      "metadata": {
        "colab": {
          "base_uri": "https://localhost:8080/"
        },
        "id": "4yZ4HW5T1hD_",
        "outputId": "bc01e1c1-f116-4b87-cc0b-d3b04537a8b7"
      },
      "execution_count": 23,
      "outputs": [
        {
          "output_type": "stream",
          "name": "stdout",
          "text": [
            "{1, 2, 3, 4, 8}\n"
          ]
        }
      ]
    },
    {
      "cell_type": "markdown",
      "source": [
        "**Q.18. Write a code to create a tuple with the elements 10, 20, 30 and print it.**"
      ],
      "metadata": {
        "id": "c81QHZYX1lqA"
      }
    },
    {
      "cell_type": "code",
      "source": [
        "my_tuple = (10, 20, 30)\n",
        "print(my_tuple)\n"
      ],
      "metadata": {
        "colab": {
          "base_uri": "https://localhost:8080/"
        },
        "id": "K9r_uzMJ10iu",
        "outputId": "1c7bca90-fe28-4659-e7b1-91f0e46d6496"
      },
      "execution_count": 24,
      "outputs": [
        {
          "output_type": "stream",
          "name": "stdout",
          "text": [
            "(10, 20, 30)\n"
          ]
        }
      ]
    },
    {
      "cell_type": "markdown",
      "source": [
        "**Q.19. Write a code to access the first element of the tuple ('apple', 'banana', 'cherry').**"
      ],
      "metadata": {
        "id": "mE4OZ53V14J_"
      }
    },
    {
      "cell_type": "code",
      "source": [
        "my_tuple = ('apple', 'banana', 'cherry')\n",
        "print(my_tuple[0])\n"
      ],
      "metadata": {
        "colab": {
          "base_uri": "https://localhost:8080/"
        },
        "id": "CUuwMw2-1-yM",
        "outputId": "464b7deb-e351-4769-e1cf-9cc6730d5d09"
      },
      "execution_count": 25,
      "outputs": [
        {
          "output_type": "stream",
          "name": "stdout",
          "text": [
            "apple\n"
          ]
        }
      ]
    },
    {
      "cell_type": "markdown",
      "source": [
        "**Q.20. Write a code to count how many times the number 2 appears in the tuple (1, 2, 3, 2, 4, 2).**"
      ],
      "metadata": {
        "id": "QfL7Pqbi2DHM"
      }
    },
    {
      "cell_type": "code",
      "source": [
        "my_tuple = (1, 2, 3, 2, 4, 2)\n",
        "print(my_tuple.count(2))\n"
      ],
      "metadata": {
        "colab": {
          "base_uri": "https://localhost:8080/"
        },
        "id": "eKe5SaTh2VDn",
        "outputId": "c09971b8-489d-4c20-c743-d4034aad5ad5"
      },
      "execution_count": 26,
      "outputs": [
        {
          "output_type": "stream",
          "name": "stdout",
          "text": [
            "3\n"
          ]
        }
      ]
    },
    {
      "cell_type": "markdown",
      "source": [
        "**Q.21. Write a code to find the index of the element \"cat\" in the tuple ('dog', 'cat', 'rabbit')**"
      ],
      "metadata": {
        "id": "GGom4Af92aV7"
      }
    },
    {
      "cell_type": "code",
      "source": [
        "my_tuple = ('dog', 'cat', 'rabbit')\n",
        "print(my_tuple.index('cat'))\n"
      ],
      "metadata": {
        "colab": {
          "base_uri": "https://localhost:8080/"
        },
        "id": "T-PD-6OH2eY7",
        "outputId": "6786b47c-af9c-4706-f6f5-b36f6b8ec178"
      },
      "execution_count": 27,
      "outputs": [
        {
          "output_type": "stream",
          "name": "stdout",
          "text": [
            "1\n"
          ]
        }
      ]
    },
    {
      "cell_type": "markdown",
      "source": [
        "**Q.22. Write a code to check if the element \"banana\" is in the tuple ('apple', 'orange', 'banana').**"
      ],
      "metadata": {
        "id": "2DdHgPny2jwK"
      }
    },
    {
      "cell_type": "code",
      "source": [
        "my_tuple = ('apple', 'orange', 'banana')\n",
        "print('banana' in my_tuple)\n"
      ],
      "metadata": {
        "colab": {
          "base_uri": "https://localhost:8080/"
        },
        "id": "ZD2LPL8x2q4M",
        "outputId": "3043ebf8-9d7c-4246-ca53-929448ecf322"
      },
      "execution_count": 28,
      "outputs": [
        {
          "output_type": "stream",
          "name": "stdout",
          "text": [
            "True\n"
          ]
        }
      ]
    },
    {
      "cell_type": "markdown",
      "source": [
        "**Q.23. Write a code to create a set with the elements 1, 2, 3, 4, 5 and print it.**"
      ],
      "metadata": {
        "id": "offdAgnl2ws-"
      }
    },
    {
      "cell_type": "code",
      "source": [
        "my_set = {1, 2, 3, 4, 5}\n",
        "print(my_set)\n"
      ],
      "metadata": {
        "colab": {
          "base_uri": "https://localhost:8080/"
        },
        "id": "08VEuw4O23Vp",
        "outputId": "708d8a99-acd9-4960-fdde-b374271faa28"
      },
      "execution_count": 29,
      "outputs": [
        {
          "output_type": "stream",
          "name": "stdout",
          "text": [
            "{1, 2, 3, 4, 5}\n"
          ]
        }
      ]
    },
    {
      "cell_type": "markdown",
      "source": [
        "**Q.24. Write a code to add the element 6 to the set (1, 2, 3, 4).**"
      ],
      "metadata": {
        "id": "8RPonlt-3GdN"
      }
    },
    {
      "cell_type": "code",
      "source": [
        "my_set = {1, 2, 3, 4}\n",
        "my_set.add(6)\n",
        "print(my_set)\n"
      ],
      "metadata": {
        "colab": {
          "base_uri": "https://localhost:8080/"
        },
        "id": "OLdtWl3l3KUF",
        "outputId": "a6fe0fd5-740c-43ca-e271-64f53c629e72"
      },
      "execution_count": 30,
      "outputs": [
        {
          "output_type": "stream",
          "name": "stdout",
          "text": [
            "{1, 2, 3, 4, 6}\n"
          ]
        }
      ]
    }
  ]
}